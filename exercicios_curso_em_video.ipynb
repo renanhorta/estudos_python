{
  "nbformat": 4,
  "nbformat_minor": 0,
  "metadata": {
    "colab": {
      "provenance": [],
      "toc_visible": true,
      "authorship_tag": "ABX9TyNbUJy9Z2nLZrb5h5J175lw",
      "include_colab_link": true
    },
    "kernelspec": {
      "name": "python3",
      "display_name": "Python 3"
    },
    "language_info": {
      "name": "python"
    }
  },
  "cells": [
    {
      "cell_type": "markdown",
      "metadata": {
        "id": "view-in-github",
        "colab_type": "text"
      },
      "source": [
        "<a href=\"https://colab.research.google.com/github/renanhorta/estudos_python/blob/main/exercicios_curso_em_video.ipynb\" target=\"_parent\"><img src=\"https://colab.research.google.com/assets/colab-badge.svg\" alt=\"Open In Colab\"/></a>"
      ]
    },
    {
      "cell_type": "markdown",
      "source": [
        "dissecando uma variavel\n"
      ],
      "metadata": {
        "id": "UjTdPSbU56kh"
      }
    },
    {
      "cell_type": "code",
      "source": [
        "def verify_input(input):\n",
        "\n",
        "  print(f\"O tipo primitivo desse valor é: {type(input)}\")\n",
        "\n",
        "  if ' ' in input:\n",
        "    print(\"Existe espaço na entrada de dados.\")\n",
        "  else:\n",
        "    print(\"Não existe espaço na entrada de dados.\")\n",
        "\n",
        "  if input.isspace():\n",
        "    print(\"A entrada é um espaço em branco\")\n",
        "  else:\n",
        "    print(\"A entrada não é um espaço em branco\")\n",
        "\n",
        "  if input.isalpha():\n",
        "    print(\"A entrada contém SOMENTE caracteres Alfabéticos\")\n",
        "  else:\n",
        "    print(\"A entrada não contem SOMENTE caracteres Alfabéticos\")\n",
        "\n",
        "  if any(letra.isdigit() for letra in input):\n",
        "    print(\"A entrada contém números\")\n",
        "  else:\n",
        "    print(\"A entrada não contem números\")\n",
        "\n",
        "  if input.isupper():\n",
        "    print(\"A entrada está em maiuscula\")\n",
        "  else:\n",
        "    print(\"A entrada não está em maiuscula\")\n",
        "\n",
        "  if input.islower():\n",
        "    print(\"A entrada está em minuscula\")\n",
        "  else:\n",
        "    print(\"A entrada não está em minuscula\")\n",
        "\n",
        "  if input.istitle():\n",
        "    print(\"A entrada está em Captalizada\")\n",
        "  else:\n",
        "    print(\"A entrada não está em Captalizada\")\n",
        "\n",
        "\n",
        "user_input = input(\"Digite qualquer coisa:\")\n",
        "verify_input(user_input)"
      ],
      "metadata": {
        "colab": {
          "base_uri": "https://localhost:8080/"
        },
        "id": "SNKQV53A5-qq",
        "outputId": "e20a896a-439f-4d9e-956f-80a6e1ffed79"
      },
      "execution_count": null,
      "outputs": [
        {
          "output_type": "stream",
          "name": "stdout",
          "text": [
            "Digite qualquer coisa:Renan a\n",
            "O tipo primitivo desse valor é: <class 'str'>\n",
            "Existe espaço na entrada de dados.\n",
            "A entrada não é um espaço em branco\n",
            "A entrada não contem SOMENTE caracteres Alfabéticos\n",
            "A entrada não contem números\n",
            "A entrada não está em maiuscula\n",
            "A entrada não está em minuscula\n",
            "A entrada não está em Captalizada\n"
          ]
        }
      ]
    }
  ]
}